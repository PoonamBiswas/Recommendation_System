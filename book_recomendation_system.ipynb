{
  "nbformat": 4,
  "nbformat_minor": 0,
  "metadata": {
    "colab": {
      "provenance": []
    },
    "kernelspec": {
      "name": "python3",
      "display_name": "Python 3"
    },
    "language_info": {
      "name": "python"
    }
  },
  "cells": [
    {
      "cell_type": "code",
      "execution_count": 1,
      "metadata": {
        "colab": {
          "base_uri": "https://localhost:8080/"
        },
        "id": "IM6goQwUqQow",
        "outputId": "6ddecf40-1038-4a12-dead-baeb15130ebd"
      },
      "outputs": [
        {
          "output_type": "stream",
          "name": "stdout",
          "text": [
            "Requirement already satisfied: pandas in /usr/local/lib/python3.10/dist-packages (2.0.3)\n",
            "Requirement already satisfied: python-dateutil>=2.8.2 in /usr/local/lib/python3.10/dist-packages (from pandas) (2.8.2)\n",
            "Requirement already satisfied: pytz>=2020.1 in /usr/local/lib/python3.10/dist-packages (from pandas) (2023.4)\n",
            "Requirement already satisfied: tzdata>=2022.1 in /usr/local/lib/python3.10/dist-packages (from pandas) (2024.1)\n",
            "Requirement already satisfied: numpy>=1.21.0 in /usr/local/lib/python3.10/dist-packages (from pandas) (1.25.2)\n",
            "Requirement already satisfied: six>=1.5 in /usr/local/lib/python3.10/dist-packages (from python-dateutil>=2.8.2->pandas) (1.16.0)\n",
            "Collecting scikit-surprise\n",
            "  Downloading scikit_surprise-1.1.4.tar.gz (154 kB)\n",
            "\u001b[2K     \u001b[90m━━━━━━━━━━━━━━━━━━━━━━━━━━━━━━━━━━━━━━━━\u001b[0m \u001b[32m154.4/154.4 kB\u001b[0m \u001b[31m3.6 MB/s\u001b[0m eta \u001b[36m0:00:00\u001b[0m\n",
            "\u001b[?25h  Installing build dependencies ... \u001b[?25l\u001b[?25hdone\n",
            "  Getting requirements to build wheel ... \u001b[?25l\u001b[?25hdone\n",
            "  Preparing metadata (pyproject.toml) ... \u001b[?25l\u001b[?25hdone\n",
            "Requirement already satisfied: joblib>=1.2.0 in /usr/local/lib/python3.10/dist-packages (from scikit-surprise) (1.4.2)\n",
            "Requirement already satisfied: numpy>=1.19.5 in /usr/local/lib/python3.10/dist-packages (from scikit-surprise) (1.25.2)\n",
            "Requirement already satisfied: scipy>=1.6.0 in /usr/local/lib/python3.10/dist-packages (from scikit-surprise) (1.11.4)\n",
            "Building wheels for collected packages: scikit-surprise\n",
            "  Building wheel for scikit-surprise (pyproject.toml) ... \u001b[?25l\u001b[?25hdone\n",
            "  Created wheel for scikit-surprise: filename=scikit_surprise-1.1.4-cp310-cp310-linux_x86_64.whl size=2357244 sha256=a76a08dc9758c97b142e62da1a0770c0064b297cbd1391b20e0e40ba0047c81c\n",
            "  Stored in directory: /root/.cache/pip/wheels/4b/3f/df/6acbf0a40397d9bf3ff97f582cc22fb9ce66adde75bc71fd54\n",
            "Successfully built scikit-surprise\n",
            "Installing collected packages: scikit-surprise\n",
            "Successfully installed scikit-surprise-1.1.4\n"
          ]
        }
      ],
      "source": [
        "!pip install pandas\n",
        "!pip install scikit-surprise"
      ]
    },
    {
      "cell_type": "code",
      "source": [
        "import pandas as pd\n",
        "\n",
        "# Alternative URLs for the Book-Crossing dataset\n",
        "books_url = 'https://raw.githubusercontent.com/zygmuntz/goodbooks-10k/master/books.csv'\n",
        "ratings_url = 'https://raw.githubusercontent.com/zygmuntz/goodbooks-10k/master/ratings.csv'\n",
        "users_url = 'https://raw.githubusercontent.com/zygmuntz/goodbooks-10k/master/tags.csv'  # No user data, using tags instead\n",
        "\n",
        "# Load datasets\n",
        "books = pd.read_csv(books_url)\n",
        "ratings = pd.read_csv(ratings_url)\n",
        "# users = pd.read_csv(users_url)  # Not needed for this example\n",
        "\n",
        "# Display the first few rows of each dataset\n",
        "print(books.head())\n",
        "print(ratings.head())\n"
      ],
      "metadata": {
        "colab": {
          "base_uri": "https://localhost:8080/"
        },
        "id": "JBlGUSfxqjvG",
        "outputId": "7ac1b7f0-46bc-4cc4-a486-be3c7e751873"
      },
      "execution_count": 2,
      "outputs": [
        {
          "output_type": "stream",
          "name": "stdout",
          "text": [
            "   book_id  goodreads_book_id  best_book_id  work_id  books_count       isbn  \\\n",
            "0        1            2767052       2767052  2792775          272  439023483   \n",
            "1        2                  3             3  4640799          491  439554934   \n",
            "2        3              41865         41865  3212258          226  316015849   \n",
            "3        4               2657          2657  3275794          487   61120081   \n",
            "4        5               4671          4671   245494         1356  743273567   \n",
            "\n",
            "         isbn13                      authors  original_publication_year  \\\n",
            "0  9.780439e+12              Suzanne Collins                     2008.0   \n",
            "1  9.780440e+12  J.K. Rowling, Mary GrandPré                     1997.0   \n",
            "2  9.780316e+12              Stephenie Meyer                     2005.0   \n",
            "3  9.780061e+12                   Harper Lee                     1960.0   \n",
            "4  9.780743e+12          F. Scott Fitzgerald                     1925.0   \n",
            "\n",
            "                             original_title  ... ratings_count  \\\n",
            "0                          The Hunger Games  ...       4780653   \n",
            "1  Harry Potter and the Philosopher's Stone  ...       4602479   \n",
            "2                                  Twilight  ...       3866839   \n",
            "3                     To Kill a Mockingbird  ...       3198671   \n",
            "4                          The Great Gatsby  ...       2683664   \n",
            "\n",
            "  work_ratings_count  work_text_reviews_count  ratings_1  ratings_2  \\\n",
            "0            4942365                   155254      66715     127936   \n",
            "1            4800065                    75867      75504     101676   \n",
            "2            3916824                    95009     456191     436802   \n",
            "3            3340896                    72586      60427     117415   \n",
            "4            2773745                    51992      86236     197621   \n",
            "\n",
            "   ratings_3  ratings_4  ratings_5  \\\n",
            "0     560092    1481305    2706317   \n",
            "1     455024    1156318    3011543   \n",
            "2     793319     875073    1355439   \n",
            "3     446835    1001952    1714267   \n",
            "4     606158     936012     947718   \n",
            "\n",
            "                                           image_url  \\\n",
            "0  https://images.gr-assets.com/books/1447303603m...   \n",
            "1  https://images.gr-assets.com/books/1474154022m...   \n",
            "2  https://images.gr-assets.com/books/1361039443m...   \n",
            "3  https://images.gr-assets.com/books/1361975680m...   \n",
            "4  https://images.gr-assets.com/books/1490528560m...   \n",
            "\n",
            "                                     small_image_url  \n",
            "0  https://images.gr-assets.com/books/1447303603s...  \n",
            "1  https://images.gr-assets.com/books/1474154022s...  \n",
            "2  https://images.gr-assets.com/books/1361039443s...  \n",
            "3  https://images.gr-assets.com/books/1361975680s...  \n",
            "4  https://images.gr-assets.com/books/1490528560s...  \n",
            "\n",
            "[5 rows x 23 columns]\n",
            "   user_id  book_id  rating\n",
            "0        1      258       5\n",
            "1        2     4081       4\n",
            "2        2      260       5\n",
            "3        2     9296       5\n",
            "4        2     2318       3\n"
          ]
        }
      ]
    },
    {
      "cell_type": "code",
      "source": [
        "# Filter the ratings dataset to include only users who have rated at least 100 books\n",
        "user_counts = ratings['user_id'].value_counts()\n",
        "ratings = ratings[ratings['user_id'].isin(user_counts[user_counts >= 100].index)]\n"
      ],
      "metadata": {
        "id": "YOnEVWztrL5u"
      },
      "execution_count": 3,
      "outputs": []
    },
    {
      "cell_type": "code",
      "source": [
        "# Filter the ratings dataset to include only books that have been rated at least 50 times\n",
        "book_counts = ratings['book_id'].value_counts()\n",
        "ratings = ratings[ratings['book_id'].isin(book_counts[book_counts >= 50].index)]\n"
      ],
      "metadata": {
        "id": "zHxdQEFldgv7"
      },
      "execution_count": 4,
      "outputs": []
    },
    {
      "cell_type": "code",
      "source": [
        "# Merge ratings with books to get book titles\n",
        "ratings = ratings.merge(books[['book_id', 'title']], on='book_id')\n"
      ],
      "metadata": {
        "id": "1RRzrvuadmMg"
      },
      "execution_count": 5,
      "outputs": []
    },
    {
      "cell_type": "code",
      "source": [
        "print(ratings.head())"
      ],
      "metadata": {
        "colab": {
          "base_uri": "https://localhost:8080/"
        },
        "id": "UhL8xI_gdpmZ",
        "outputId": "18f4d95c-889d-407f-8d33-4a57e8acd968"
      },
      "execution_count": 6,
      "outputs": [
        {
          "output_type": "stream",
          "name": "stdout",
          "text": [
            "   user_id  book_id  rating                                              title\n",
            "0        1      258       5  The Shadow of the Wind (The Cemetery of Forgot...\n",
            "1       11      258       3  The Shadow of the Wind (The Cemetery of Forgot...\n",
            "2      143      258       4  The Shadow of the Wind (The Cemetery of Forgot...\n",
            "3      242      258       5  The Shadow of the Wind (The Cemetery of Forgot...\n",
            "4      325      258       4  The Shadow of the Wind (The Cemetery of Forgot...\n"
          ]
        }
      ]
    },
    {
      "cell_type": "code",
      "source": [
        "from surprise.model_selection import train_test_split\n",
        "\n",
        "# Split the data into training and testing sets\n",
        "trainset, testset = train_test_split(data, test_size=0.2)\n"
      ],
      "metadata": {
        "id": "fFWm95MTehS5"
      },
      "execution_count": 10,
      "outputs": []
    },
    {
      "cell_type": "code",
      "source": [
        "from surprise import SVD\n",
        "\n",
        "# Use the SVD algorithm\n",
        "svd = SVD()\n",
        "\n",
        "# Train the model\n",
        "svd.fit(trainset)\n"
      ],
      "metadata": {
        "colab": {
          "base_uri": "https://localhost:8080/"
        },
        "id": "Sm8PfMpOdsBW",
        "outputId": "c147deda-d576-4c9b-c41a-5cc0dcdafe5a"
      },
      "execution_count": 11,
      "outputs": [
        {
          "output_type": "execute_result",
          "data": {
            "text/plain": [
              "<surprise.prediction_algorithms.matrix_factorization.SVD at 0x7bc52a723970>"
            ]
          },
          "metadata": {},
          "execution_count": 11
        }
      ]
    },
    {
      "cell_type": "code",
      "source": [
        "from surprise import accuracy\n",
        "\n",
        "# Make predictions on the test set\n",
        "predictions = svd.test(testset)\n",
        "\n",
        "# Evaluate the model's accuracy\n",
        "print(f\"RMSE: {accuracy.rmse(predictions)}\")"
      ],
      "metadata": {
        "colab": {
          "base_uri": "https://localhost:8080/"
        },
        "id": "RDGGgz60d-gY",
        "outputId": "ebea2608-ad75-4a51-8c00-0802f1d8b841"
      },
      "execution_count": 12,
      "outputs": [
        {
          "output_type": "stream",
          "name": "stdout",
          "text": [
            "RMSE: 0.8305\n",
            "RMSE: 0.830517775740821\n"
          ]
        }
      ]
    },
    {
      "cell_type": "code",
      "source": [
        "from sklearn.metrics import precision_recall_fscore_support\n",
        "import numpy as np\n",
        "\n",
        "# Define a function to calculate precision and recall at a threshold\n",
        "def precision_recall_at_k(predictions, k=5, threshold=3.5):\n",
        "    # First map the predictions to each user.\n",
        "    user_est_true = {}\n",
        "    for uid, iid, true_r, est, _ in predictions:\n",
        "        if uid not in user_est_true:\n",
        "            user_est_true[uid] = []\n",
        "        user_est_true[uid].append((est, true_r))\n",
        "\n",
        "    precisions = []\n",
        "    recalls = []\n",
        "\n",
        "    # Calculate precision and recall for each user\n",
        "    for uid, user_ratings in user_est_true.items():\n",
        "        # Sort user ratings by estimated value\n",
        "        user_ratings.sort(key=lambda x: x[0], reverse=True)\n",
        "\n",
        "        # Number of relevant items\n",
        "        n_rel = sum((true_r >= threshold) for (est, true_r) in user_ratings)\n",
        "\n",
        "        # Number of recommended items in top k\n",
        "        n_rec_k = sum((est >= threshold) for (est, true_r) in user_ratings[:k])\n",
        "\n",
        "        # Number of relevant and recommended items in top k\n",
        "        n_rel_and_rec_k = sum(((true_r >= threshold) and (est >= threshold)) for (est, true_r) in user_ratings[:k])\n",
        "\n",
        "        # Precision@k: Proportion of recommended items that are relevant\n",
        "        if n_rec_k != 0:\n",
        "            precisions.append(n_rel_and_rec_k / n_rec_k)\n",
        "        else:\n",
        "            precisions.append(1)\n",
        "\n",
        "        # Recall@k: Proportion of relevant items that are recommended\n",
        "        if n_rel != 0:\n",
        "            recalls.append(n_rel_and_rec_k / n_rel)\n",
        "        else:\n",
        "            recalls.append(1)\n",
        "\n",
        "    return np.mean(precisions), np.mean(recalls)\n",
        "\n",
        "# Calculate precision and recall at k\n",
        "precision, recall = precision_recall_at_k(predictions, k=5, threshold=3.5)\n",
        "\n",
        "print(f'Precision: {precision}')\n",
        "print(f'Recall: {recall}')\n"
      ],
      "metadata": {
        "colab": {
          "base_uri": "https://localhost:8080/"
        },
        "id": "MNSnerEQfb48",
        "outputId": "a68845a1-e19d-44e4-c76b-5da2de19861c"
      },
      "execution_count": 13,
      "outputs": [
        {
          "output_type": "stream",
          "name": "stdout",
          "text": [
            "Precision: 0.8441839247833747\n",
            "Recall: 0.26376024301796513\n"
          ]
        }
      ]
    },
    {
      "cell_type": "code",
      "source": [
        "from sklearn.metrics import confusion_matrix\n",
        "import seaborn as sns\n",
        "import matplotlib.pyplot as plt\n",
        "\n",
        "# Define threshold\n",
        "threshold = 3.5\n",
        "\n",
        "# Get true labels and predicted labels based on the threshold\n",
        "y_true = [true_r >= threshold for (_, _, true_r, _, _) in predictions]\n",
        "y_pred = [est >= threshold for (_, _, _, est, _) in predictions]\n",
        "\n",
        "# Create confusion matrix\n",
        "cm = confusion_matrix(y_true, y_pred)\n",
        "\n",
        "# Plot confusion matrix\n",
        "sns.heatmap(cm, annot=True, fmt='d', cmap='Blues', xticklabels=['Not Recommended', 'Recommended'], yticklabels=['Not Relevant', 'Relevant'])\n",
        "plt.xlabel('Predicted')\n",
        "plt.ylabel('True')\n",
        "plt.title('Confusion Matrix')\n",
        "plt.show()\n"
      ],
      "metadata": {
        "colab": {
          "base_uri": "https://localhost:8080/",
          "height": 472
        },
        "id": "OeaAMKETfz2c",
        "outputId": "d541ba60-c3ee-4ae0-986e-aea0ea6a0e95"
      },
      "execution_count": 14,
      "outputs": [
        {
          "output_type": "display_data",
          "data": {
            "text/plain": [
              "<Figure size 640x480 with 2 Axes>"
            ],
            "image/png": "[encoded data removed]"
          },
          "metadata": {}
        }
      ]
    },
    {
      "cell_type": "code",
      "source": [
        "def get_recommendations(user_id, num_recommendations=10):\n",
        "    # Get all book ids\n",
        "    book_ids = ratings['book_id'].unique()\n",
        "    # Predict ratings for all books\n",
        "    predictions = [svd.predict(user_id, book_id) for book_id in book_ids]\n",
        "    # Sort by predicted rating\n",
        "    predictions = sorted(predictions, key=lambda x: x.est, reverse=True)\n",
        "    # Get top N recommendations\n",
        "    top_predictions = predictions[:num_recommendations]\n",
        "\n",
        "    # Get the book titles for the top recommendations\n",
        "    top_book_ids = [pred.iid for pred in top_predictions]\n",
        "    top_books = books[books['book_id'].isin(top_book_ids)][['book_id', 'title']]\n",
        "\n",
        "    return top_books\n",
        "\n",
        "# Example: Get recommendations for a specific user\n",
        "user_id = 325  # Replace with a valid user ID from your dataset\n",
        "recommendations = get_recommendations(user_id)\n",
        "print(recommendations)\n"
      ],
      "metadata": {
        "colab": {
          "base_uri": "https://localhost:8080/"
        },
        "id": "TojEY7Naf6_D",
        "outputId": "296ab262-1a5a-4b85-b810-95ba303e1903"
      },
      "execution_count": 15,
      "outputs": [
        {
          "output_type": "stream",
          "name": "stdout",
          "text": [
            "      book_id                                              title\n",
            "861       862     Words of Radiance (The Stormlight Archive, #2)\n",
            "1009     1010  The Essential Calvin and Hobbes: A Calvin and ...\n",
            "1379     1380                     The Complete Maus (Maus, #1-2)\n",
            "2373     2374                                    Angle of Repose\n",
            "3394     3395                   The Kindly Ones (The Sandman #9)\n",
            "5206     5207  The Days Are Just Packed: A Calvin and Hobbes ...\n",
            "6919     6920                The Indispensable Calvin and Hobbes\n",
            "8977     8978                        The Revenge of the Baby-Sat\n",
            "9075     9076    Preach My Gospel: A Guide To Missionary Service\n",
            "9565     9566  Attack of the Deranged Mutant Killer Monster S...\n"
          ]
        }
      ]
    },
    {
      "cell_type": "code",
      "source": [],
      "metadata": {
        "id": "-0YAYUipgLDp"
      },
      "execution_count": null,
      "outputs": []
    }
  ]
}